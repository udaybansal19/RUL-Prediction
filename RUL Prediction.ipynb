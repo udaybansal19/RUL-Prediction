{
 "cells": [
  {
   "cell_type": "markdown",
   "metadata": {},
   "source": [
    "# RUL Prediction"
   ]
  },
  {
   "cell_type": "code",
   "execution_count": 1,
   "metadata": {},
   "outputs": [],
   "source": [
    "import composeml as cp\n",
    "import numpy as np\n",
    "import pandas as pd\n",
    "import featuretools as ft\n",
    "import graphviz\n",
    "import datetime\n",
    "import utils\n",
    "import os\n",
    "import matplotlib.pyplot as plt\n",
    "%matplotlib inline"
   ]
  },
  {
   "cell_type": "code",
   "execution_count": 2,
   "metadata": {},
   "outputs": [],
   "source": [
    "def compile_data(fileNames, bearingCount):\n",
    "    \n",
    "    compiled_dataset = pd.DataFrame()\n",
    "    \n",
    "    for file in fileNames:\n",
    "        fileData = pd.read_csv(file)\n",
    "#         print(fileData)\n",
    "        fileData['BearingNumber'] = bearingCount\n",
    "#         fileData['TimeStamp'] = pd.to_datetime(fileData['Time'], unit='s')\n",
    "        compiled_dataset = pd.concat([compiled_dataset, fileData])\n",
    "        bearingCount+=1\n",
    "\n",
    "    compiled_dataset['index'] = np.arange(compiled_dataset.shape[0])\n",
    "    \n",
    "    return compiled_dataset"
   ]
  },
  {
   "cell_type": "code",
   "execution_count": 3,
   "metadata": {},
   "outputs": [],
   "source": [
    "def get_data(dataType,sensor_direction,BearingNumbers):\n",
    "#     dataType = 'LEARNING'\n",
    "    data_set = pd.DataFrame()\n",
    "    for condition in [1,2,3]:\n",
    "        for BearingNumber in BearingNumbers:\n",
    "            bearing = []\n",
    "            for direction in [sensor_direction]:\n",
    "                if (condition ==3) & (BearingNumber >3):\n",
    "                    continue\n",
    "                path = 'Features/{} SET/{} acceleration Features/Features{}_{}_{}.csv'.format(dataType,\n",
    "                                                                                             direction,\n",
    "                                                                                             condition,\n",
    "                                                                                             BearingNumber,\n",
    "                                                                                             direction)\n",
    "\n",
    "                df = pd.read_csv(path)\n",
    "                df['condition'] = str(condition)\n",
    "                df['BearingNumber'] = BearingNumber\n",
    "                if dataType == 'LEARNING':\n",
    "                    df['RUL'] = df['Time'].max() - df['Time']\n",
    "                    df = df[:-1]\n",
    "                data_set = pd.concat([data_set, df])\n",
    "    data_set = data_set.drop(columns = 'Time')\n",
    "    data_set = pd.get_dummies(data_set,columns=['condition'],drop_first=True)\n",
    "    if dataType == 'LEARNING':\n",
    "        data_set = data_set.drop(columns='RUL').assign(RUL = data_set.RUL).sample(frac=1).reset_index(drop=True)\n",
    "    return data_set.set_index('BearingNumber',drop=True).drop(columns = ['SpectralKurtosisMean',\n",
    "                                                                         'SpectralKurtosisStandardDeviation',\n",
    "                                                       'SpectralKurtosisSkewness', 'SpectralKurtosisKurtosis',\n",
    "                                                       'SpectralEntropyMean', 'SpectralEntropyStandardDeviation',\n",
    "                                                       'SpectralEntropySkewness', 'SpectralEntropyKurtosis','CustomFeature3'])"
   ]
  },
  {
   "cell_type": "code",
   "execution_count": 4,
   "metadata": {},
   "outputs": [],
   "source": [
    "learning_dataset_Horizontal = get_data('LEARNING','Horizontal',[1,2])"
   ]
  },
  {
   "cell_type": "code",
   "execution_count": 5,
   "metadata": {},
   "outputs": [
    {
     "data": {
      "text/html": [
       "<div>\n",
       "<style scoped>\n",
       "    .dataframe tbody tr th:only-of-type {\n",
       "        vertical-align: middle;\n",
       "    }\n",
       "\n",
       "    .dataframe tbody tr th {\n",
       "        vertical-align: top;\n",
       "    }\n",
       "\n",
       "    .dataframe thead th {\n",
       "        text-align: right;\n",
       "    }\n",
       "</style>\n",
       "<table border=\"1\" class=\"dataframe\">\n",
       "  <thead>\n",
       "    <tr style=\"text-align: right;\">\n",
       "      <th></th>\n",
       "      <th>Mean</th>\n",
       "      <th>StandardDev</th>\n",
       "      <th>RMS</th>\n",
       "      <th>AbsMean</th>\n",
       "      <th>Skewness</th>\n",
       "      <th>Kurtosis</th>\n",
       "      <th>Variance</th>\n",
       "      <th>MaxValue</th>\n",
       "      <th>MinValue</th>\n",
       "      <th>Peak2Peak</th>\n",
       "      <th>...</th>\n",
       "      <th>PulseIndex</th>\n",
       "      <th>MarginIndex</th>\n",
       "      <th>SkewnessIndex</th>\n",
       "      <th>KurtosisIndex</th>\n",
       "      <th>CustomFeature1</th>\n",
       "      <th>CustomFeature2</th>\n",
       "      <th>SquareRootAmplitude</th>\n",
       "      <th>condition_2</th>\n",
       "      <th>condition_3</th>\n",
       "      <th>RUL</th>\n",
       "    </tr>\n",
       "    <tr>\n",
       "      <th>BearingNumber</th>\n",
       "      <th></th>\n",
       "      <th></th>\n",
       "      <th></th>\n",
       "      <th></th>\n",
       "      <th></th>\n",
       "      <th></th>\n",
       "      <th></th>\n",
       "      <th></th>\n",
       "      <th></th>\n",
       "      <th></th>\n",
       "      <th></th>\n",
       "      <th></th>\n",
       "      <th></th>\n",
       "      <th></th>\n",
       "      <th></th>\n",
       "      <th></th>\n",
       "      <th></th>\n",
       "      <th></th>\n",
       "      <th></th>\n",
       "      <th></th>\n",
       "      <th></th>\n",
       "    </tr>\n",
       "  </thead>\n",
       "  <tbody>\n",
       "    <tr>\n",
       "      <th>1</th>\n",
       "      <td>-0.043770</td>\n",
       "      <td>0.188084</td>\n",
       "      <td>0.193039</td>\n",
       "      <td>0.151968</td>\n",
       "      <td>-0.073425</td>\n",
       "      <td>3.072427</td>\n",
       "      <td>0.035376</td>\n",
       "      <td>0.682826</td>\n",
       "      <td>0.000277</td>\n",
       "      <td>0.682549</td>\n",
       "      <td>...</td>\n",
       "      <td>4.493220</td>\n",
       "      <td>3.537250</td>\n",
       "      <td>-11.035327</td>\n",
       "      <td>2455.103627</td>\n",
       "      <td>8.144197</td>\n",
       "      <td>0.198123</td>\n",
       "      <td>0.127480</td>\n",
       "      <td>1</td>\n",
       "      <td>0</td>\n",
       "      <td>7000</td>\n",
       "    </tr>\n",
       "    <tr>\n",
       "      <th>2</th>\n",
       "      <td>0.036818</td>\n",
       "      <td>0.198925</td>\n",
       "      <td>0.202227</td>\n",
       "      <td>0.160552</td>\n",
       "      <td>-0.059178</td>\n",
       "      <td>3.159029</td>\n",
       "      <td>0.039571</td>\n",
       "      <td>0.743772</td>\n",
       "      <td>0.000571</td>\n",
       "      <td>0.743202</td>\n",
       "      <td>...</td>\n",
       "      <td>4.632599</td>\n",
       "      <td>3.677913</td>\n",
       "      <td>-7.517885</td>\n",
       "      <td>2017.437775</td>\n",
       "      <td>7.717168</td>\n",
       "      <td>0.205584</td>\n",
       "      <td>0.135989</td>\n",
       "      <td>1</td>\n",
       "      <td>0</td>\n",
       "      <td>7280</td>\n",
       "    </tr>\n",
       "    <tr>\n",
       "      <th>1</th>\n",
       "      <td>-0.007743</td>\n",
       "      <td>0.404402</td>\n",
       "      <td>0.404318</td>\n",
       "      <td>0.311147</td>\n",
       "      <td>0.466905</td>\n",
       "      <td>4.437679</td>\n",
       "      <td>0.163541</td>\n",
       "      <td>2.015632</td>\n",
       "      <td>0.000021</td>\n",
       "      <td>2.015611</td>\n",
       "      <td>...</td>\n",
       "      <td>6.478072</td>\n",
       "      <td>4.985265</td>\n",
       "      <td>7.059751</td>\n",
       "      <td>165.921845</td>\n",
       "      <td>4.177170</td>\n",
       "      <td>0.404234</td>\n",
       "      <td>0.260366</td>\n",
       "      <td>0</td>\n",
       "      <td>0</td>\n",
       "      <td>13510</td>\n",
       "    </tr>\n",
       "    <tr>\n",
       "      <th>1</th>\n",
       "      <td>0.004173</td>\n",
       "      <td>0.362726</td>\n",
       "      <td>0.362609</td>\n",
       "      <td>0.285306</td>\n",
       "      <td>-0.063744</td>\n",
       "      <td>3.227975</td>\n",
       "      <td>0.131570</td>\n",
       "      <td>1.285684</td>\n",
       "      <td>0.000232</td>\n",
       "      <td>1.285451</td>\n",
       "      <td>...</td>\n",
       "      <td>4.506328</td>\n",
       "      <td>3.545651</td>\n",
       "      <td>-1.335669</td>\n",
       "      <td>186.472081</td>\n",
       "      <td>4.456116</td>\n",
       "      <td>0.362491</td>\n",
       "      <td>0.239559</td>\n",
       "      <td>0</td>\n",
       "      <td>0</td>\n",
       "      <td>13340</td>\n",
       "    </tr>\n",
       "    <tr>\n",
       "      <th>1</th>\n",
       "      <td>0.013880</td>\n",
       "      <td>0.541417</td>\n",
       "      <td>0.541383</td>\n",
       "      <td>0.409585</td>\n",
       "      <td>-0.013878</td>\n",
       "      <td>4.237243</td>\n",
       "      <td>0.293132</td>\n",
       "      <td>2.369091</td>\n",
       "      <td>0.000510</td>\n",
       "      <td>2.368581</td>\n",
       "      <td>...</td>\n",
       "      <td>5.784119</td>\n",
       "      <td>4.375996</td>\n",
       "      <td>-0.087446</td>\n",
       "      <td>49.312398</td>\n",
       "      <td>3.227325</td>\n",
       "      <td>0.541350</td>\n",
       "      <td>0.337092</td>\n",
       "      <td>0</td>\n",
       "      <td>0</td>\n",
       "      <td>10930</td>\n",
       "    </tr>\n",
       "  </tbody>\n",
       "</table>\n",
       "<p>5 rows × 22 columns</p>\n",
       "</div>"
      ],
      "text/plain": [
       "                   Mean  StandardDev       RMS   AbsMean  Skewness  Kurtosis  \\\n",
       "BearingNumber                                                                  \n",
       "1             -0.043770     0.188084  0.193039  0.151968 -0.073425  3.072427   \n",
       "2              0.036818     0.198925  0.202227  0.160552 -0.059178  3.159029   \n",
       "1             -0.007743     0.404402  0.404318  0.311147  0.466905  4.437679   \n",
       "1              0.004173     0.362726  0.362609  0.285306 -0.063744  3.227975   \n",
       "1              0.013880     0.541417  0.541383  0.409585 -0.013878  4.237243   \n",
       "\n",
       "               Variance  MaxValue  MinValue  Peak2Peak  ...  PulseIndex  \\\n",
       "BearingNumber                                           ...               \n",
       "1              0.035376  0.682826  0.000277   0.682549  ...    4.493220   \n",
       "2              0.039571  0.743772  0.000571   0.743202  ...    4.632599   \n",
       "1              0.163541  2.015632  0.000021   2.015611  ...    6.478072   \n",
       "1              0.131570  1.285684  0.000232   1.285451  ...    4.506328   \n",
       "1              0.293132  2.369091  0.000510   2.368581  ...    5.784119   \n",
       "\n",
       "               MarginIndex  SkewnessIndex  KurtosisIndex  CustomFeature1  \\\n",
       "BearingNumber                                                              \n",
       "1                 3.537250     -11.035327    2455.103627        8.144197   \n",
       "2                 3.677913      -7.517885    2017.437775        7.717168   \n",
       "1                 4.985265       7.059751     165.921845        4.177170   \n",
       "1                 3.545651      -1.335669     186.472081        4.456116   \n",
       "1                 4.375996      -0.087446      49.312398        3.227325   \n",
       "\n",
       "               CustomFeature2  SquareRootAmplitude  condition_2  condition_3  \\\n",
       "BearingNumber                                                                  \n",
       "1                    0.198123             0.127480            1            0   \n",
       "2                    0.205584             0.135989            1            0   \n",
       "1                    0.404234             0.260366            0            0   \n",
       "1                    0.362491             0.239559            0            0   \n",
       "1                    0.541350             0.337092            0            0   \n",
       "\n",
       "                 RUL  \n",
       "BearingNumber         \n",
       "1               7000  \n",
       "2               7280  \n",
       "1              13510  \n",
       "1              13340  \n",
       "1              10930  \n",
       "\n",
       "[5 rows x 22 columns]"
      ]
     },
     "execution_count": 5,
     "metadata": {},
     "output_type": "execute_result"
    }
   ],
   "source": [
    "learning_dataset_Horizontal.head()"
   ]
  },
  {
   "cell_type": "code",
   "execution_count": 6,
   "metadata": {
    "scrolled": true
   },
   "outputs": [
    {
     "name": "stdout",
     "output_type": "stream",
     "text": [
      "<class 'pandas.core.frame.DataFrame'>\n",
      "Int64Index: 7528 entries, 1 to 1\n",
      "Data columns (total 22 columns):\n",
      " #   Column               Non-Null Count  Dtype  \n",
      "---  ------               --------------  -----  \n",
      " 0   Mean                 7528 non-null   float64\n",
      " 1   StandardDev          7528 non-null   float64\n",
      " 2   RMS                  7528 non-null   float64\n",
      " 3   AbsMean              7528 non-null   float64\n",
      " 4   Skewness             7528 non-null   float64\n",
      " 5   Kurtosis             7528 non-null   float64\n",
      " 6   Variance             7528 non-null   float64\n",
      " 7   MaxValue             7528 non-null   float64\n",
      " 8   MinValue             7528 non-null   float64\n",
      " 9   Peak2Peak            7528 non-null   float64\n",
      " 10  WaveformIndex        7528 non-null   float64\n",
      " 11  PeakIndex            7528 non-null   float64\n",
      " 12  PulseIndex           7528 non-null   float64\n",
      " 13  MarginIndex          7528 non-null   float64\n",
      " 14  SkewnessIndex        7528 non-null   float64\n",
      " 15  KurtosisIndex        7528 non-null   float64\n",
      " 16  CustomFeature1       7528 non-null   float64\n",
      " 17  CustomFeature2       7528 non-null   float64\n",
      " 18  SquareRootAmplitude  7528 non-null   float64\n",
      " 19  condition_2          7528 non-null   uint8  \n",
      " 20  condition_3          7528 non-null   uint8  \n",
      " 21  RUL                  7528 non-null   int64  \n",
      "dtypes: float64(19), int64(1), uint8(2)\n",
      "memory usage: 1.2 MB\n"
     ]
    }
   ],
   "source": [
    "learning_dataset_Horizontal.info()"
   ]
  },
  {
   "cell_type": "code",
   "execution_count": 7,
   "metadata": {},
   "outputs": [
    {
     "data": {
      "text/plain": [
       "<matplotlib.axes._subplots.AxesSubplot at 0x20726c8f880>"
      ]
     },
     "execution_count": 7,
     "metadata": {},
     "output_type": "execute_result"
    },
    {
     "data": {
      "image/png": "[encoded data removed]",
      "text/plain": [
       "<Figure size 720x504 with 2 Axes>"
      ]
     },
     "metadata": {
      "needs_background": "light"
     },
     "output_type": "display_data"
    }
   ],
   "source": [
    "import seaborn as sns\n",
    "plt.figure(figsize=(10,7))\n",
    "correlation_matrix = learning_dataset_Horizontal.corr()\n",
    "sns.heatmap(correlation_matrix, \n",
    "        xticklabels=correlation_matrix.columns,\n",
    "        yticklabels=correlation_matrix.columns)"
   ]
  },
  {
   "cell_type": "markdown",
   "metadata": {},
   "source": [
    "## Machine Learning Model\n",
    "Before we use that feature matrix to make predictions, we should check how well guessing does on this dataset. We can use a `train_test_split` from scikit-learn to split our training data once and for all."
   ]
  },
  {
   "cell_type": "code",
   "execution_count": 8,
   "metadata": {},
   "outputs": [],
   "source": [
    "from sklearn.ensemble import RandomForestRegressor\n",
    "from sklearn.model_selection import train_test_split\n",
    "from sklearn.metrics import mean_absolute_error"
   ]
  },
  {
   "cell_type": "code",
   "execution_count": 9,
   "metadata": {},
   "outputs": [],
   "source": [
    "X = learning_dataset_Horizontal.drop(columns='RUL').values\n",
    "y = learning_dataset_Horizontal['RUL']\n",
    "X_train, X_test, y_train, y_test = train_test_split(X, y, random_state=17,train_size=0.8)"
   ]
  },
  {
   "cell_type": "code",
   "execution_count": 10,
   "metadata": {},
   "outputs": [],
   "source": [
    "from sklearn.preprocessing import StandardScaler\n",
    "scaler = StandardScaler()\n",
    "X_train = scaler.fit_transform(X_train)"
   ]
  },
  {
   "cell_type": "markdown",
   "metadata": {},
   "source": [
    "## Applying Kernal PCA"
   ]
  },
  {
   "cell_type": "code",
   "execution_count": 11,
   "metadata": {},
   "outputs": [],
   "source": [
    "from sklearn.decomposition import KernelPCA\n",
    "\n",
    "transformer = KernelPCA(17,kernel='poly',degree=2)\n",
    "X_train =transformer.fit_transform(X_train)"
   ]
  },
  {
   "cell_type": "markdown",
   "metadata": {},
   "source": [
    "# Step 3: Using the Model\n",
    "Now, we can use our created features to fit a `RandomForestRegressor` to our data and see if we can improve on the previous scores."
   ]
  },
  {
   "cell_type": "code",
   "execution_count": 12,
   "metadata": {},
   "outputs": [
    {
     "name": "stdout",
     "output_type": "stream",
     "text": [
      "[ 5231.  11264.   5888.  ...  4208.   6710.5 17395. ]\n",
      "Mean Abs Error: 2761.74\n"
     ]
    }
   ],
   "source": [
    "reg = RandomForestRegressor(n_estimators=20,random_state=13)\n",
    "reg.fit(X_train, y_train)\n",
    "\n",
    "preds = reg.predict(transformer.transform(scaler.transform(X_test)))\n",
    "print(preds)\n",
    "scores = mean_absolute_error(preds, y_test)\n",
    "print('Mean Abs Error: {:.2f}'.format(scores))\n",
    "\n",
    "# high_imp_feats = utils.feature_importances(X, reg, feats=10)"
   ]
  },
  {
   "cell_type": "code",
   "execution_count": 13,
   "metadata": {},
   "outputs": [
    {
     "data": {
      "text/plain": [
       "RandomForestRegressor(bootstrap=True, ccp_alpha=0.0, criterion='mse',\n",
       "                      max_depth=None, max_features='auto', max_leaf_nodes=None,\n",
       "                      max_samples=None, min_impurity_decrease=0.0,\n",
       "                      min_impurity_split=None, min_samples_leaf=1,\n",
       "                      min_samples_split=2, min_weight_fraction_leaf=0.0,\n",
       "                      n_estimators=20, n_jobs=None, oob_score=False,\n",
       "                      random_state=13, verbose=0, warm_start=False)"
      ]
     },
     "execution_count": 13,
     "metadata": {},
     "output_type": "execute_result"
    }
   ],
   "source": [
    "reg"
   ]
  },
  {
   "cell_type": "markdown",
   "metadata": {},
   "source": [
    "## Test set"
   ]
  },
  {
   "cell_type": "code",
   "execution_count": 14,
   "metadata": {},
   "outputs": [],
   "source": [
    "#getting the data from files\n",
    "Test_dataset_Horizontal = get_data('TEST','Horizontal',[3,4,5,6,7])"
   ]
  },
  {
   "cell_type": "code",
   "execution_count": 15,
   "metadata": {},
   "outputs": [
    {
     "data": {
      "text/html": [
       "<div>\n",
       "<style scoped>\n",
       "    .dataframe tbody tr th:only-of-type {\n",
       "        vertical-align: middle;\n",
       "    }\n",
       "\n",
       "    .dataframe tbody tr th {\n",
       "        vertical-align: top;\n",
       "    }\n",
       "\n",
       "    .dataframe thead th {\n",
       "        text-align: right;\n",
       "    }\n",
       "</style>\n",
       "<table border=\"1\" class=\"dataframe\">\n",
       "  <thead>\n",
       "    <tr style=\"text-align: right;\">\n",
       "      <th></th>\n",
       "      <th>Mean</th>\n",
       "      <th>StandardDev</th>\n",
       "      <th>RMS</th>\n",
       "      <th>AbsMean</th>\n",
       "      <th>Skewness</th>\n",
       "      <th>Kurtosis</th>\n",
       "      <th>Variance</th>\n",
       "      <th>MaxValue</th>\n",
       "      <th>MinValue</th>\n",
       "      <th>Peak2Peak</th>\n",
       "      <th>...</th>\n",
       "      <th>PeakIndex</th>\n",
       "      <th>PulseIndex</th>\n",
       "      <th>MarginIndex</th>\n",
       "      <th>SkewnessIndex</th>\n",
       "      <th>KurtosisIndex</th>\n",
       "      <th>CustomFeature1</th>\n",
       "      <th>CustomFeature2</th>\n",
       "      <th>SquareRootAmplitude</th>\n",
       "      <th>condition_2</th>\n",
       "      <th>condition_3</th>\n",
       "    </tr>\n",
       "    <tr>\n",
       "      <th>BearingNumber</th>\n",
       "      <th></th>\n",
       "      <th></th>\n",
       "      <th></th>\n",
       "      <th></th>\n",
       "      <th></th>\n",
       "      <th></th>\n",
       "      <th></th>\n",
       "      <th></th>\n",
       "      <th></th>\n",
       "      <th></th>\n",
       "      <th></th>\n",
       "      <th></th>\n",
       "      <th></th>\n",
       "      <th></th>\n",
       "      <th></th>\n",
       "      <th></th>\n",
       "      <th></th>\n",
       "      <th></th>\n",
       "      <th></th>\n",
       "      <th></th>\n",
       "      <th></th>\n",
       "    </tr>\n",
       "  </thead>\n",
       "  <tbody>\n",
       "    <tr>\n",
       "      <th>3</th>\n",
       "      <td>0.001197</td>\n",
       "      <td>0.248041</td>\n",
       "      <td>0.247947</td>\n",
       "      <td>0.194288</td>\n",
       "      <td>0.127733</td>\n",
       "      <td>3.599890</td>\n",
       "      <td>0.061524</td>\n",
       "      <td>1.059120</td>\n",
       "      <td>0.000230</td>\n",
       "      <td>1.058889</td>\n",
       "      <td>...</td>\n",
       "      <td>4.269934</td>\n",
       "      <td>5.451299</td>\n",
       "      <td>4.271553</td>\n",
       "      <td>8.370141</td>\n",
       "      <td>951.028464</td>\n",
       "      <td>6.571034</td>\n",
       "      <td>0.247853</td>\n",
       "      <td>0.163393</td>\n",
       "      <td>0</td>\n",
       "      <td>0</td>\n",
       "    </tr>\n",
       "    <tr>\n",
       "      <th>3</th>\n",
       "      <td>0.000199</td>\n",
       "      <td>0.196699</td>\n",
       "      <td>0.196623</td>\n",
       "      <td>0.153003</td>\n",
       "      <td>-0.102710</td>\n",
       "      <td>3.333085</td>\n",
       "      <td>0.038691</td>\n",
       "      <td>0.705695</td>\n",
       "      <td>0.000970</td>\n",
       "      <td>0.704725</td>\n",
       "      <td>...</td>\n",
       "      <td>3.587685</td>\n",
       "      <td>4.612298</td>\n",
       "      <td>3.589085</td>\n",
       "      <td>-13.495921</td>\n",
       "      <td>2226.564363</td>\n",
       "      <td>8.402403</td>\n",
       "      <td>0.196546</td>\n",
       "      <td>0.127285</td>\n",
       "      <td>0</td>\n",
       "      <td>0</td>\n",
       "    </tr>\n",
       "    <tr>\n",
       "      <th>3</th>\n",
       "      <td>0.011329</td>\n",
       "      <td>0.211226</td>\n",
       "      <td>0.211448</td>\n",
       "      <td>0.166751</td>\n",
       "      <td>-0.033351</td>\n",
       "      <td>3.152589</td>\n",
       "      <td>0.044617</td>\n",
       "      <td>0.745239</td>\n",
       "      <td>0.000005</td>\n",
       "      <td>0.745233</td>\n",
       "      <td>...</td>\n",
       "      <td>3.528152</td>\n",
       "      <td>4.469166</td>\n",
       "      <td>3.524461</td>\n",
       "      <td>-3.538908</td>\n",
       "      <td>1583.706800</td>\n",
       "      <td>7.596444</td>\n",
       "      <td>0.211669</td>\n",
       "      <td>0.140391</td>\n",
       "      <td>0</td>\n",
       "      <td>0</td>\n",
       "    </tr>\n",
       "    <tr>\n",
       "      <th>3</th>\n",
       "      <td>0.008143</td>\n",
       "      <td>0.181924</td>\n",
       "      <td>0.182035</td>\n",
       "      <td>0.146024</td>\n",
       "      <td>-0.123512</td>\n",
       "      <td>2.824974</td>\n",
       "      <td>0.033096</td>\n",
       "      <td>0.603649</td>\n",
       "      <td>0.000164</td>\n",
       "      <td>0.603485</td>\n",
       "      <td>...</td>\n",
       "      <td>3.318135</td>\n",
       "      <td>4.133898</td>\n",
       "      <td>3.316110</td>\n",
       "      <td>-20.513412</td>\n",
       "      <td>2579.007526</td>\n",
       "      <td>8.531803</td>\n",
       "      <td>0.182147</td>\n",
       "      <td>0.124053</td>\n",
       "      <td>0</td>\n",
       "      <td>0</td>\n",
       "    </tr>\n",
       "    <tr>\n",
       "      <th>3</th>\n",
       "      <td>0.004238</td>\n",
       "      <td>0.197688</td>\n",
       "      <td>0.197656</td>\n",
       "      <td>0.154482</td>\n",
       "      <td>0.106867</td>\n",
       "      <td>3.478887</td>\n",
       "      <td>0.039080</td>\n",
       "      <td>0.748696</td>\n",
       "      <td>0.000084</td>\n",
       "      <td>0.748612</td>\n",
       "      <td>...</td>\n",
       "      <td>3.787268</td>\n",
       "      <td>4.846502</td>\n",
       "      <td>3.787877</td>\n",
       "      <td>13.832693</td>\n",
       "      <td>2277.834672</td>\n",
       "      <td>8.283716</td>\n",
       "      <td>0.197624</td>\n",
       "      <td>0.129281</td>\n",
       "      <td>0</td>\n",
       "      <td>0</td>\n",
       "    </tr>\n",
       "  </tbody>\n",
       "</table>\n",
       "<p>5 rows × 21 columns</p>\n",
       "</div>"
      ],
      "text/plain": [
       "                   Mean  StandardDev       RMS   AbsMean  Skewness  Kurtosis  \\\n",
       "BearingNumber                                                                  \n",
       "3              0.001197     0.248041  0.247947  0.194288  0.127733  3.599890   \n",
       "3              0.000199     0.196699  0.196623  0.153003 -0.102710  3.333085   \n",
       "3              0.011329     0.211226  0.211448  0.166751 -0.033351  3.152589   \n",
       "3              0.008143     0.181924  0.182035  0.146024 -0.123512  2.824974   \n",
       "3              0.004238     0.197688  0.197656  0.154482  0.106867  3.478887   \n",
       "\n",
       "               Variance  MaxValue  MinValue  Peak2Peak  ...  PeakIndex  \\\n",
       "BearingNumber                                           ...              \n",
       "3              0.061524  1.059120  0.000230   1.058889  ...   4.269934   \n",
       "3              0.038691  0.705695  0.000970   0.704725  ...   3.587685   \n",
       "3              0.044617  0.745239  0.000005   0.745233  ...   3.528152   \n",
       "3              0.033096  0.603649  0.000164   0.603485  ...   3.318135   \n",
       "3              0.039080  0.748696  0.000084   0.748612  ...   3.787268   \n",
       "\n",
       "               PulseIndex  MarginIndex  SkewnessIndex  KurtosisIndex  \\\n",
       "BearingNumber                                                          \n",
       "3                5.451299     4.271553       8.370141     951.028464   \n",
       "3                4.612298     3.589085     -13.495921    2226.564363   \n",
       "3                4.469166     3.524461      -3.538908    1583.706800   \n",
       "3                4.133898     3.316110     -20.513412    2579.007526   \n",
       "3                4.846502     3.787877      13.832693    2277.834672   \n",
       "\n",
       "               CustomFeature1  CustomFeature2  SquareRootAmplitude  \\\n",
       "BearingNumber                                                        \n",
       "3                    6.571034        0.247853             0.163393   \n",
       "3                    8.402403        0.196546             0.127285   \n",
       "3                    7.596444        0.211669             0.140391   \n",
       "3                    8.531803        0.182147             0.124053   \n",
       "3                    8.283716        0.197624             0.129281   \n",
       "\n",
       "               condition_2  condition_3  \n",
       "BearingNumber                            \n",
       "3                        0            0  \n",
       "3                        0            0  \n",
       "3                        0            0  \n",
       "3                        0            0  \n",
       "3                        0            0  \n",
       "\n",
       "[5 rows x 21 columns]"
      ]
     },
     "execution_count": 15,
     "metadata": {},
     "output_type": "execute_result"
    }
   ],
   "source": [
    "Test_dataset_Horizontal.head()"
   ]
  },
  {
   "cell_type": "code",
   "execution_count": 16,
   "metadata": {},
   "outputs": [
    {
     "data": {
      "text/plain": [
       "BearingNumber\n",
       "3    17681.0\n",
       "3    17261.0\n",
       "3    17460.5\n",
       "3    11851.5\n",
       "3    22589.0\n",
       "Name: predicted_RUL, dtype: float64"
      ]
     },
     "execution_count": 16,
     "metadata": {},
     "output_type": "execute_result"
    }
   ],
   "source": [
    "#predict RUL for every record\n",
    "Test_dataset_Horizontal['predicted_RUL'] = reg.predict(transformer.transform(scaler.transform(Test_dataset_Horizontal)))\n",
    "Test_dataset_Horizontal['predicted_RUL'].head()"
   ]
  },
  {
   "cell_type": "code",
   "execution_count": 17,
   "metadata": {},
   "outputs": [],
   "source": [
    "#reset condition\n",
    "Test_dataset_Horizontal.loc[(Test_dataset_Horizontal.condition_2 == 0)&\n",
    "                           (Test_dataset_Horizontal.condition_3 == 0),'condition'] = '1'\n",
    "Test_dataset_Horizontal.loc[(Test_dataset_Horizontal.condition_2 == 1)&\n",
    "                           (Test_dataset_Horizontal.condition_3 == 0),'condition'] = '2'\n",
    "Test_dataset_Horizontal.loc[(Test_dataset_Horizontal.condition_2 == 0)&\n",
    "                           (Test_dataset_Horizontal.condition_3 == 1),'condition'] = '3'"
   ]
  },
  {
   "cell_type": "code",
   "execution_count": 18,
   "metadata": {},
   "outputs": [
    {
     "data": {
      "text/html": [
       "<div>\n",
       "<style scoped>\n",
       "    .dataframe tbody tr th:only-of-type {\n",
       "        vertical-align: middle;\n",
       "    }\n",
       "\n",
       "    .dataframe tbody tr th {\n",
       "        vertical-align: top;\n",
       "    }\n",
       "\n",
       "    .dataframe thead th {\n",
       "        text-align: right;\n",
       "    }\n",
       "</style>\n",
       "<table border=\"1\" class=\"dataframe\">\n",
       "  <thead>\n",
       "    <tr style=\"text-align: right;\">\n",
       "      <th></th>\n",
       "      <th>BearingNumber</th>\n",
       "      <th>condition</th>\n",
       "      <th>predicted_RUL</th>\n",
       "    </tr>\n",
       "  </thead>\n",
       "  <tbody>\n",
       "    <tr>\n",
       "      <th>0</th>\n",
       "      <td>3</td>\n",
       "      <td>1</td>\n",
       "      <td>1784.5</td>\n",
       "    </tr>\n",
       "    <tr>\n",
       "      <th>1</th>\n",
       "      <td>4</td>\n",
       "      <td>1</td>\n",
       "      <td>197.0</td>\n",
       "    </tr>\n",
       "    <tr>\n",
       "      <th>2</th>\n",
       "      <td>5</td>\n",
       "      <td>1</td>\n",
       "      <td>1717.5</td>\n",
       "    </tr>\n",
       "    <tr>\n",
       "      <th>3</th>\n",
       "      <td>6</td>\n",
       "      <td>1</td>\n",
       "      <td>1226.0</td>\n",
       "    </tr>\n",
       "    <tr>\n",
       "      <th>4</th>\n",
       "      <td>7</td>\n",
       "      <td>1</td>\n",
       "      <td>1616.5</td>\n",
       "    </tr>\n",
       "    <tr>\n",
       "      <th>5</th>\n",
       "      <td>3</td>\n",
       "      <td>2</td>\n",
       "      <td>201.5</td>\n",
       "    </tr>\n",
       "    <tr>\n",
       "      <th>6</th>\n",
       "      <td>4</td>\n",
       "      <td>2</td>\n",
       "      <td>1378.0</td>\n",
       "    </tr>\n",
       "    <tr>\n",
       "      <th>7</th>\n",
       "      <td>5</td>\n",
       "      <td>2</td>\n",
       "      <td>538.0</td>\n",
       "    </tr>\n",
       "    <tr>\n",
       "      <th>8</th>\n",
       "      <td>6</td>\n",
       "      <td>2</td>\n",
       "      <td>919.0</td>\n",
       "    </tr>\n",
       "    <tr>\n",
       "      <th>9</th>\n",
       "      <td>7</td>\n",
       "      <td>2</td>\n",
       "      <td>2202.5</td>\n",
       "    </tr>\n",
       "    <tr>\n",
       "      <th>10</th>\n",
       "      <td>3</td>\n",
       "      <td>3</td>\n",
       "      <td>851.0</td>\n",
       "    </tr>\n",
       "  </tbody>\n",
       "</table>\n",
       "</div>"
      ],
      "text/plain": [
       "    BearingNumber condition  predicted_RUL\n",
       "0               3         1         1784.5\n",
       "1               4         1          197.0\n",
       "2               5         1         1717.5\n",
       "3               6         1         1226.0\n",
       "4               7         1         1616.5\n",
       "5               3         2          201.5\n",
       "6               4         2         1378.0\n",
       "7               5         2          538.0\n",
       "8               6         2          919.0\n",
       "9               7         2         2202.5\n",
       "10              3         3          851.0"
      ]
     },
     "execution_count": 18,
     "metadata": {},
     "output_type": "execute_result"
    }
   ],
   "source": [
    "#get the RUL for each bearing number as minium value\n",
    "Test_dataset_Horizontal.reset_index().groupby(['BearingNumber','condition'],as_index = False,sort=False)['predicted_RUL'].min()"
   ]
  },
  {
   "cell_type": "code",
   "execution_count": 19,
   "metadata": {},
   "outputs": [],
   "source": [
    "#get the RUL for each bearing number as last value\n",
    "result = Test_dataset_Horizontal.reset_index().groupby(['BearingNumber','condition'],as_index = False,sort=False)['predicted_RUL'].min()"
   ]
  },
  {
   "cell_type": "code",
   "execution_count": 20,
   "metadata": {},
   "outputs": [],
   "source": [
    "result['RUL'] = [5730,339 ,1610 ,1460,7570 ,7530 ,1390,3090 ,1290, 580,820]\n",
    "\n",
    "result['%ERi'] = 100 * (result['RUL']  - result['predicted_RUL'] ) /result['RUL']"
   ]
  },
  {
   "cell_type": "code",
   "execution_count": 21,
   "metadata": {},
   "outputs": [],
   "source": [
    "def cal_score(value):\n",
    "    if value < 0:\n",
    "        Ai = np.exp(-np.log(0.5)*(value/5))\n",
    "    else:\n",
    "        Ai = np.exp(np.log(0.5)*(value/20))\n",
    "    return Ai"
   ]
  },
  {
   "cell_type": "markdown",
   "metadata": {},
   "source": [
    "## Score"
   ]
  },
  {
   "cell_type": "code",
   "execution_count": 22,
   "metadata": {},
   "outputs": [
    {
     "data": {
      "text/plain": [
       "0.3077126510667621"
      ]
     },
     "execution_count": 22,
     "metadata": {},
     "output_type": "execute_result"
    }
   ],
   "source": [
    "result['%ERi'].map(cal_score).mean()"
   ]
  },
  {
   "cell_type": "code",
   "execution_count": null,
   "metadata": {},
   "outputs": [],
   "source": []
  },
  {
   "cell_type": "code",
   "execution_count": null,
   "metadata": {},
   "outputs": [],
   "source": []
  },
  {
   "cell_type": "markdown",
   "metadata": {},
   "source": [
    "# XGboost"
   ]
  },
  {
   "cell_type": "code",
   "execution_count": 23,
   "metadata": {},
   "outputs": [],
   "source": [
    "from numpy import absolute\n",
    "from sklearn.model_selection import cross_val_score\n",
    "from sklearn.model_selection import RepeatedKFold\n",
    "from xgboost import XGBRegressor\n",
    "model = XGBRegressor(n_estimators=20, eta=0.1, subsample=0.7, colsample_bytree=0.8)\n",
    "# # define model evaluation method\n",
    "# cv = RepeatedKFold(n_splits=10, n_repeats=3, random_state=1)\n",
    "# # evaluate model\n",
    "# scores = cross_val_score(model, X_train, y_train, scoring='neg_mean_absolute_error', cv=cv, n_jobs=-1)\n",
    "# # force scores to be positive\n",
    "# scores = absolute(scores)\n",
    "# print('Mean MAE: %.3f (%.3f)' % (scores.mean(), scores.std()) )"
   ]
  },
  {
   "cell_type": "code",
   "execution_count": 24,
   "metadata": {},
   "outputs": [],
   "source": [
    "model = model.fit(X_train,y_train)"
   ]
  },
  {
   "cell_type": "code",
   "execution_count": 25,
   "metadata": {},
   "outputs": [],
   "source": [
    "#getting the data from files\n",
    "Test_dataset_Horizontal = get_data('TEST','Horizontal',[3,4,5,6,7])"
   ]
  },
  {
   "cell_type": "code",
   "execution_count": 26,
   "metadata": {},
   "outputs": [
    {
     "data": {
      "text/plain": [
       "BearingNumber\n",
       "3    14559.528320\n",
       "3    13940.472656\n",
       "3    16199.590820\n",
       "3    15673.600586\n",
       "3    18742.564453\n",
       "Name: predicted_RUL, dtype: float32"
      ]
     },
     "execution_count": 26,
     "metadata": {},
     "output_type": "execute_result"
    }
   ],
   "source": [
    "#predict RUL for every record\n",
    "Test_dataset_Horizontal['predicted_RUL'] = model.predict(transformer.transform(scaler.transform(Test_dataset_Horizontal)))\n",
    "Test_dataset_Horizontal['predicted_RUL'].head()"
   ]
  },
  {
   "cell_type": "code",
   "execution_count": 27,
   "metadata": {},
   "outputs": [],
   "source": [
    "#reset condition\n",
    "Test_dataset_Horizontal.loc[(Test_dataset_Horizontal.condition_2 == 0)&\n",
    "                           (Test_dataset_Horizontal.condition_3 == 0),'condition'] = '1'\n",
    "Test_dataset_Horizontal.loc[(Test_dataset_Horizontal.condition_2 == 1)&\n",
    "                           (Test_dataset_Horizontal.condition_3 == 0),'condition'] = '2'\n",
    "Test_dataset_Horizontal.loc[(Test_dataset_Horizontal.condition_2 == 0)&\n",
    "                           (Test_dataset_Horizontal.condition_3 == 1),'condition'] = '3'"
   ]
  },
  {
   "cell_type": "code",
   "execution_count": 28,
   "metadata": {},
   "outputs": [
    {
     "data": {
      "text/html": [
       "<div>\n",
       "<style scoped>\n",
       "    .dataframe tbody tr th:only-of-type {\n",
       "        vertical-align: middle;\n",
       "    }\n",
       "\n",
       "    .dataframe tbody tr th {\n",
       "        vertical-align: top;\n",
       "    }\n",
       "\n",
       "    .dataframe thead th {\n",
       "        text-align: right;\n",
       "    }\n",
       "</style>\n",
       "<table border=\"1\" class=\"dataframe\">\n",
       "  <thead>\n",
       "    <tr style=\"text-align: right;\">\n",
       "      <th></th>\n",
       "      <th>BearingNumber</th>\n",
       "      <th>condition</th>\n",
       "      <th>predicted_RUL</th>\n",
       "    </tr>\n",
       "  </thead>\n",
       "  <tbody>\n",
       "    <tr>\n",
       "      <th>0</th>\n",
       "      <td>3</td>\n",
       "      <td>1</td>\n",
       "      <td>1341.761108</td>\n",
       "    </tr>\n",
       "    <tr>\n",
       "      <th>1</th>\n",
       "      <td>4</td>\n",
       "      <td>1</td>\n",
       "      <td>-139.395828</td>\n",
       "    </tr>\n",
       "    <tr>\n",
       "      <th>2</th>\n",
       "      <td>5</td>\n",
       "      <td>1</td>\n",
       "      <td>1744.564697</td>\n",
       "    </tr>\n",
       "    <tr>\n",
       "      <th>3</th>\n",
       "      <td>6</td>\n",
       "      <td>1</td>\n",
       "      <td>1044.218140</td>\n",
       "    </tr>\n",
       "    <tr>\n",
       "      <th>4</th>\n",
       "      <td>7</td>\n",
       "      <td>1</td>\n",
       "      <td>2378.655029</td>\n",
       "    </tr>\n",
       "    <tr>\n",
       "      <th>5</th>\n",
       "      <td>3</td>\n",
       "      <td>2</td>\n",
       "      <td>-774.101257</td>\n",
       "    </tr>\n",
       "    <tr>\n",
       "      <th>6</th>\n",
       "      <td>4</td>\n",
       "      <td>2</td>\n",
       "      <td>1363.719238</td>\n",
       "    </tr>\n",
       "    <tr>\n",
       "      <th>7</th>\n",
       "      <td>5</td>\n",
       "      <td>2</td>\n",
       "      <td>215.750473</td>\n",
       "    </tr>\n",
       "    <tr>\n",
       "      <th>8</th>\n",
       "      <td>6</td>\n",
       "      <td>2</td>\n",
       "      <td>590.996887</td>\n",
       "    </tr>\n",
       "    <tr>\n",
       "      <th>9</th>\n",
       "      <td>7</td>\n",
       "      <td>2</td>\n",
       "      <td>3004.226807</td>\n",
       "    </tr>\n",
       "    <tr>\n",
       "      <th>10</th>\n",
       "      <td>3</td>\n",
       "      <td>3</td>\n",
       "      <td>19.332150</td>\n",
       "    </tr>\n",
       "  </tbody>\n",
       "</table>\n",
       "</div>"
      ],
      "text/plain": [
       "    BearingNumber condition  predicted_RUL\n",
       "0               3         1    1341.761108\n",
       "1               4         1    -139.395828\n",
       "2               5         1    1744.564697\n",
       "3               6         1    1044.218140\n",
       "4               7         1    2378.655029\n",
       "5               3         2    -774.101257\n",
       "6               4         2    1363.719238\n",
       "7               5         2     215.750473\n",
       "8               6         2     590.996887\n",
       "9               7         2    3004.226807\n",
       "10              3         3      19.332150"
      ]
     },
     "execution_count": 28,
     "metadata": {},
     "output_type": "execute_result"
    }
   ],
   "source": [
    "#get the RUL for each bearing number as minium value\n",
    "Test_dataset_Horizontal.reset_index().groupby(['BearingNumber','condition'],as_index = False,sort=False)['predicted_RUL'].min()"
   ]
  },
  {
   "cell_type": "code",
   "execution_count": 29,
   "metadata": {},
   "outputs": [],
   "source": [
    "#get the RUL for each bearing number as last value\n",
    "result = Test_dataset_Horizontal.reset_index().groupby(['BearingNumber','condition'],as_index = False,sort=False)['predicted_RUL'].min()"
   ]
  },
  {
   "cell_type": "code",
   "execution_count": 30,
   "metadata": {},
   "outputs": [],
   "source": [
    "result['RUL'] = [5730,339 ,1610 ,1460,7570 ,7530 ,1390,3090 ,1290, 580,820]\n",
    "\n",
    "result['%ERi'] = 100 * (result['RUL']  - result['predicted_RUL'] ) /result['RUL']"
   ]
  },
  {
   "cell_type": "code",
   "execution_count": 31,
   "metadata": {},
   "outputs": [
    {
     "data": {
      "text/plain": [
       "0.18567316263891429"
      ]
     },
     "execution_count": 31,
     "metadata": {},
     "output_type": "execute_result"
    }
   ],
   "source": [
    "result['%ERi'].map(cal_score).mean()"
   ]
  },
  {
   "cell_type": "code",
   "execution_count": null,
   "metadata": {},
   "outputs": [],
   "source": []
  },
  {
   "cell_type": "code",
   "execution_count": null,
   "metadata": {},
   "outputs": [],
   "source": []
  }
 ],
 "metadata": {
  "interpreter": {
   "hash": "91383ca01c745ff4f6ec61074eff8198c75652caf775a5c5ee2312577bd67511"
  },
  "jupytext": {
   "encoding": "# -*- coding: utf-8 -*-"
  },
  "kernelspec": {
   "display_name": "Python 3 (ipykernel)",
   "language": "python",
   "name": "python3"
  },
  "language_info": {
   "codemirror_mode": {
    "name": "ipython",
    "version": 3
   },
   "file_extension": ".py",
   "mimetype": "text/x-python",
   "name": "python",
   "nbconvert_exporter": "python",
   "pygments_lexer": "ipython3",
   "version": "3.8.1"
  }
 },
 "nbformat": 4,
 "nbformat_minor": 2
}
