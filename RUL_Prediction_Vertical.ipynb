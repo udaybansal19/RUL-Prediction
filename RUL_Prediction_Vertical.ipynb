{
 "cells": [
  {
   "cell_type": "code",
   "execution_count": 1,
   "metadata": {},
   "outputs": [],
   "source": [
    "import composeml as cp\n",
    "import numpy as np\n",
    "import pandas as pd\n",
    "import featuretools as ft\n",
    "import graphviz\n",
    "import datetime\n",
    "import utils\n",
    "import os\n",
    "import matplotlib.pyplot as plt\n",
    "%matplotlib inline\n",
    "from sklearn.utils import shuffle"
   ]
  },
  {
   "cell_type": "code",
   "execution_count": 2,
   "metadata": {},
   "outputs": [],
   "source": [
    "def compile_data(fileNames, bearingCount):\n",
    "    \n",
    "    compiled_dataset = pd.DataFrame()\n",
    "    \n",
    "    for file in fileNames:\n",
    "        fileData = pd.read_csv(file)\n",
    "#         print(fileData)\n",
    "        fileData['BearingNumber'] = bearingCount\n",
    "#         fileData['TimeStamp'] = pd.to_datetime(fileData['Time'], unit='s')\n",
    "        compiled_dataset = pd.concat([compiled_dataset, fileData])\n",
    "        bearingCount+=1\n",
    "\n",
    "    compiled_dataset['index'] = np.arange(compiled_dataset.shape[0])\n",
    "    \n",
    "    return compiled_dataset"
   ]
  },
  {
   "cell_type": "code",
   "execution_count": 3,
   "metadata": {},
   "outputs": [],
   "source": [
    "def get_data(dataType,sensor_direction,BearingNumbers):\n",
    "#     dataType = 'LEARNING'\n",
    "    data_set = pd.DataFrame()\n",
    "    for condition in [1,2,3]:\n",
    "        for BearingNumber in BearingNumbers:\n",
    "            bearing = []\n",
    "            for direction in [sensor_direction]:\n",
    "                if (condition ==3) & (BearingNumber >3):\n",
    "                    continue\n",
    "                path = 'Features/{} SET/{} acceleration Features/Features{}_{}_{}.csv'.format(dataType,\n",
    "                                                                                             direction,\n",
    "                                                                                             condition,\n",
    "                                                                                             BearingNumber,\n",
    "                                                                                             direction)\n",
    "\n",
    "                df = pd.read_csv(path)\n",
    "                df['condition'] = str(condition)\n",
    "                df['BearingNumber'] = BearingNumber\n",
    "                if dataType == 'LEARNING':\n",
    "                    df['RUL'] = df['Time'].max() - df['Time']\n",
    "                    df = df[:-1]\n",
    "                data_set = pd.concat([data_set, df])\n",
    "    data_set = data_set.drop(columns = 'Time')\n",
    "    data_set = pd.get_dummies(data_set,columns=['condition'],drop_first=True)\n",
    "    if dataType == 'LEARNING':\n",
    "        data_set = data_set.drop(columns='RUL').assign(RUL = data_set.RUL)\n",
    "        data_set = shuffle(data_set,random_state = 0).reset_index(drop=True)\n",
    "    return data_set.set_index('BearingNumber',drop=True).drop(columns = ['SpectralKurtosisMean',\n",
    "                                                                         'SpectralKurtosisStandardDeviation',\n",
    "                                                       'SpectralKurtosisSkewness', 'SpectralKurtosisKurtosis',\n",
    "                                                       'SpectralEntropyMean', 'SpectralEntropyStandardDeviation',\n",
    "                                                       'SpectralEntropySkewness', 'SpectralEntropyKurtosis','CustomFeature3'])"
   ]
  },
  {
   "cell_type": "code",
   "execution_count": 4,
   "metadata": {},
   "outputs": [],
   "source": [
    "learning_dataset_Vertical = get_data('LEARNING','Vertical',[1,2])"
   ]
  },
  {
   "cell_type": "code",
   "execution_count": 5,
   "metadata": {},
   "outputs": [
    {
     "data": {
      "text/html": [
       "<div>\n",
       "<style scoped>\n",
       "    .dataframe tbody tr th:only-of-type {\n",
       "        vertical-align: middle;\n",
       "    }\n",
       "\n",
       "    .dataframe tbody tr th {\n",
       "        vertical-align: top;\n",
       "    }\n",
       "\n",
       "    .dataframe thead th {\n",
       "        text-align: right;\n",
       "    }\n",
       "</style>\n",
       "<table border=\"1\" class=\"dataframe\">\n",
       "  <thead>\n",
       "    <tr style=\"text-align: right;\">\n",
       "      <th></th>\n",
       "      <th>Mean</th>\n",
       "      <th>StandardDev</th>\n",
       "      <th>RMS</th>\n",
       "      <th>AbsMean</th>\n",
       "      <th>Skewness</th>\n",
       "      <th>Kurtosis</th>\n",
       "      <th>Variance</th>\n",
       "      <th>MaxValue</th>\n",
       "      <th>MinValue</th>\n",
       "      <th>Peak2Peak</th>\n",
       "      <th>...</th>\n",
       "      <th>PulseIndex</th>\n",
       "      <th>MarginIndex</th>\n",
       "      <th>SkewnessIndex</th>\n",
       "      <th>KurtosisIndex</th>\n",
       "      <th>CustomFeature1</th>\n",
       "      <th>CustomFeature2</th>\n",
       "      <th>SquareRootAmplitude</th>\n",
       "      <th>condition_2</th>\n",
       "      <th>condition_3</th>\n",
       "      <th>RUL</th>\n",
       "    </tr>\n",
       "    <tr>\n",
       "      <th>BearingNumber</th>\n",
       "      <th></th>\n",
       "      <th></th>\n",
       "      <th></th>\n",
       "      <th></th>\n",
       "      <th></th>\n",
       "      <th></th>\n",
       "      <th></th>\n",
       "      <th></th>\n",
       "      <th></th>\n",
       "      <th></th>\n",
       "      <th></th>\n",
       "      <th></th>\n",
       "      <th></th>\n",
       "      <th></th>\n",
       "      <th></th>\n",
       "      <th></th>\n",
       "      <th></th>\n",
       "      <th></th>\n",
       "      <th></th>\n",
       "      <th></th>\n",
       "      <th></th>\n",
       "    </tr>\n",
       "  </thead>\n",
       "  <tbody>\n",
       "    <tr>\n",
       "      <th>2</th>\n",
       "      <td>-0.002671</td>\n",
       "      <td>0.166445</td>\n",
       "      <td>0.166401</td>\n",
       "      <td>0.132348</td>\n",
       "      <td>0.076885</td>\n",
       "      <td>2.989350</td>\n",
       "      <td>0.027704</td>\n",
       "      <td>0.579421</td>\n",
       "      <td>0.000027</td>\n",
       "      <td>0.579393</td>\n",
       "      <td>...</td>\n",
       "      <td>4.377997</td>\n",
       "      <td>3.482066</td>\n",
       "      <td>16.673601</td>\n",
       "      <td>3894.878220</td>\n",
       "      <td>9.502406</td>\n",
       "      <td>0.166358</td>\n",
       "      <td>0.111617</td>\n",
       "      <td>1</td>\n",
       "      <td>0</td>\n",
       "      <td>7360</td>\n",
       "    </tr>\n",
       "    <tr>\n",
       "      <th>2</th>\n",
       "      <td>-0.002230</td>\n",
       "      <td>0.106731</td>\n",
       "      <td>0.106712</td>\n",
       "      <td>0.083711</td>\n",
       "      <td>0.028313</td>\n",
       "      <td>3.317644</td>\n",
       "      <td>0.011391</td>\n",
       "      <td>0.389178</td>\n",
       "      <td>0.000002</td>\n",
       "      <td>0.389176</td>\n",
       "      <td>...</td>\n",
       "      <td>4.649041</td>\n",
       "      <td>3.646978</td>\n",
       "      <td>23.287272</td>\n",
       "      <td>25566.422917</td>\n",
       "      <td>15.230711</td>\n",
       "      <td>0.106694</td>\n",
       "      <td>0.070305</td>\n",
       "      <td>0</td>\n",
       "      <td>1</td>\n",
       "      <td>590</td>\n",
       "    </tr>\n",
       "    <tr>\n",
       "      <th>2</th>\n",
       "      <td>-0.018287</td>\n",
       "      <td>0.248625</td>\n",
       "      <td>0.249200</td>\n",
       "      <td>0.161706</td>\n",
       "      <td>0.034010</td>\n",
       "      <td>8.584262</td>\n",
       "      <td>0.061814</td>\n",
       "      <td>1.285793</td>\n",
       "      <td>0.000039</td>\n",
       "      <td>1.285754</td>\n",
       "      <td>...</td>\n",
       "      <td>7.951435</td>\n",
       "      <td>5.159687</td>\n",
       "      <td>2.212925</td>\n",
       "      <td>2246.590664</td>\n",
       "      <td>9.508104</td>\n",
       "      <td>0.249776</td>\n",
       "      <td>0.123478</td>\n",
       "      <td>1</td>\n",
       "      <td>0</td>\n",
       "      <td>500</td>\n",
       "    </tr>\n",
       "    <tr>\n",
       "      <th>1</th>\n",
       "      <td>-0.022546</td>\n",
       "      <td>0.079770</td>\n",
       "      <td>0.082865</td>\n",
       "      <td>0.066251</td>\n",
       "      <td>0.025062</td>\n",
       "      <td>2.978763</td>\n",
       "      <td>0.006363</td>\n",
       "      <td>0.283905</td>\n",
       "      <td>0.000030</td>\n",
       "      <td>0.283875</td>\n",
       "      <td>...</td>\n",
       "      <td>4.285291</td>\n",
       "      <td>3.426104</td>\n",
       "      <td>49.373476</td>\n",
       "      <td>73565.432394</td>\n",
       "      <td>18.174193</td>\n",
       "      <td>0.086080</td>\n",
       "      <td>0.056246</td>\n",
       "      <td>1</td>\n",
       "      <td>0</td>\n",
       "      <td>2730</td>\n",
       "    </tr>\n",
       "    <tr>\n",
       "      <th>1</th>\n",
       "      <td>0.003728</td>\n",
       "      <td>0.190570</td>\n",
       "      <td>0.190532</td>\n",
       "      <td>0.151422</td>\n",
       "      <td>-0.023699</td>\n",
       "      <td>2.974831</td>\n",
       "      <td>0.036317</td>\n",
       "      <td>0.601967</td>\n",
       "      <td>0.000132</td>\n",
       "      <td>0.601835</td>\n",
       "      <td>...</td>\n",
       "      <td>3.975426</td>\n",
       "      <td>3.159407</td>\n",
       "      <td>-3.424285</td>\n",
       "      <td>2255.529070</td>\n",
       "      <td>8.311432</td>\n",
       "      <td>0.190494</td>\n",
       "      <td>0.127881</td>\n",
       "      <td>0</td>\n",
       "      <td>0</td>\n",
       "      <td>27300</td>\n",
       "    </tr>\n",
       "  </tbody>\n",
       "</table>\n",
       "<p>5 rows × 22 columns</p>\n",
       "</div>"
      ],
      "text/plain": [
       "                   Mean  StandardDev       RMS   AbsMean  Skewness  Kurtosis  \\\n",
       "BearingNumber                                                                  \n",
       "2             -0.002671     0.166445  0.166401  0.132348  0.076885  2.989350   \n",
       "2             -0.002230     0.106731  0.106712  0.083711  0.028313  3.317644   \n",
       "2             -0.018287     0.248625  0.249200  0.161706  0.034010  8.584262   \n",
       "1             -0.022546     0.079770  0.082865  0.066251  0.025062  2.978763   \n",
       "1              0.003728     0.190570  0.190532  0.151422 -0.023699  2.974831   \n",
       "\n",
       "               Variance  MaxValue  MinValue  Peak2Peak  ...  PulseIndex  \\\n",
       "BearingNumber                                           ...               \n",
       "2              0.027704  0.579421  0.000027   0.579393  ...    4.377997   \n",
       "2              0.011391  0.389178  0.000002   0.389176  ...    4.649041   \n",
       "2              0.061814  1.285793  0.000039   1.285754  ...    7.951435   \n",
       "1              0.006363  0.283905  0.000030   0.283875  ...    4.285291   \n",
       "1              0.036317  0.601967  0.000132   0.601835  ...    3.975426   \n",
       "\n",
       "               MarginIndex  SkewnessIndex  KurtosisIndex  CustomFeature1  \\\n",
       "BearingNumber                                                              \n",
       "2                 3.482066      16.673601    3894.878220        9.502406   \n",
       "2                 3.646978      23.287272   25566.422917       15.230711   \n",
       "2                 5.159687       2.212925    2246.590664        9.508104   \n",
       "1                 3.426104      49.373476   73565.432394       18.174193   \n",
       "1                 3.159407      -3.424285    2255.529070        8.311432   \n",
       "\n",
       "               CustomFeature2  SquareRootAmplitude  condition_2  condition_3  \\\n",
       "BearingNumber                                                                  \n",
       "2                    0.166358             0.111617            1            0   \n",
       "2                    0.106694             0.070305            0            1   \n",
       "2                    0.249776             0.123478            1            0   \n",
       "1                    0.086080             0.056246            1            0   \n",
       "1                    0.190494             0.127881            0            0   \n",
       "\n",
       "                 RUL  \n",
       "BearingNumber         \n",
       "2               7360  \n",
       "2                590  \n",
       "2                500  \n",
       "1               2730  \n",
       "1              27300  \n",
       "\n",
       "[5 rows x 22 columns]"
      ]
     },
     "execution_count": 5,
     "metadata": {},
     "output_type": "execute_result"
    }
   ],
   "source": [
    "learning_dataset_Vertical.head()"
   ]
  },
  {
   "cell_type": "code",
   "execution_count": 6,
   "metadata": {
    "scrolled": true
   },
   "outputs": [
    {
     "name": "stdout",
     "output_type": "stream",
     "text": [
      "<class 'pandas.core.frame.DataFrame'>\n",
      "Int64Index: 7528 entries, 2 to 1\n",
      "Data columns (total 22 columns):\n",
      " #   Column               Non-Null Count  Dtype  \n",
      "---  ------               --------------  -----  \n",
      " 0   Mean                 7528 non-null   float64\n",
      " 1   StandardDev          7528 non-null   float64\n",
      " 2   RMS                  7528 non-null   float64\n",
      " 3   AbsMean              7528 non-null   float64\n",
      " 4   Skewness             7528 non-null   float64\n",
      " 5   Kurtosis             7528 non-null   float64\n",
      " 6   Variance             7528 non-null   float64\n",
      " 7   MaxValue             7528 non-null   float64\n",
      " 8   MinValue             7528 non-null   float64\n",
      " 9   Peak2Peak            7528 non-null   float64\n",
      " 10  WaveformIndex        7528 non-null   float64\n",
      " 11  PeakIndex            7528 non-null   float64\n",
      " 12  PulseIndex           7528 non-null   float64\n",
      " 13  MarginIndex          7528 non-null   float64\n",
      " 14  SkewnessIndex        7528 non-null   float64\n",
      " 15  KurtosisIndex        7528 non-null   float64\n",
      " 16  CustomFeature1       7528 non-null   float64\n",
      " 17  CustomFeature2       7528 non-null   float64\n",
      " 18  SquareRootAmplitude  7528 non-null   float64\n",
      " 19  condition_2          7528 non-null   uint8  \n",
      " 20  condition_3          7528 non-null   uint8  \n",
      " 21  RUL                  7528 non-null   int64  \n",
      "dtypes: float64(19), int64(1), uint8(2)\n",
      "memory usage: 1.2 MB\n"
     ]
    }
   ],
   "source": [
    "learning_dataset_Vertical.info()"
   ]
  },
  {
   "cell_type": "code",
   "execution_count": 7,
   "metadata": {},
   "outputs": [
    {
     "data": {
      "text/plain": [
       "<matplotlib.axes._subplots.AxesSubplot at 0x187b0dcfd90>"
      ]
     },
     "execution_count": 7,
     "metadata": {},
     "output_type": "execute_result"
    },
    {
     "data": {
      "image/png": "[encoded data removed]",
      "text/plain": [
       "<Figure size 720x504 with 2 Axes>"
      ]
     },
     "metadata": {
      "needs_background": "light"
     },
     "output_type": "display_data"
    }
   ],
   "source": [
    "import seaborn as sns\n",
    "plt.figure(figsize=(10,7))\n",
    "correlation_matrix = learning_dataset_Vertical.corr()\n",
    "sns.heatmap(correlation_matrix, \n",
    "        xticklabels=correlation_matrix.columns,\n",
    "        yticklabels=correlation_matrix.columns)"
   ]
  },
  {
   "cell_type": "code",
   "execution_count": 8,
   "metadata": {},
   "outputs": [],
   "source": [
    "upper_tri = correlation_matrix.where(np.triu(np.ones(correlation_matrix.shape),k=1).astype(np.bool))\n",
    "# print(upper_tri)"
   ]
  },
  {
   "cell_type": "code",
   "execution_count": 9,
   "metadata": {},
   "outputs": [
    {
     "data": {
      "text/plain": [
       "['RMS',\n",
       " 'AbsMean',\n",
       " 'Peak2Peak',\n",
       " 'MarginIndex',\n",
       " 'KurtosisIndex',\n",
       " 'CustomFeature2',\n",
       " 'SquareRootAmplitude']"
      ]
     },
     "execution_count": 9,
     "metadata": {},
     "output_type": "execute_result"
    }
   ],
   "source": [
    "to_drop = [column for column in upper_tri.columns if any(upper_tri[column] > 0.95)]\n",
    "to_drop"
   ]
  },
  {
   "cell_type": "code",
   "execution_count": 10,
   "metadata": {},
   "outputs": [],
   "source": [
    "learning_dataset_Vertical = learning_dataset_Vertical.drop(columns = to_drop)"
   ]
  },
  {
   "cell_type": "markdown",
   "metadata": {},
   "source": [
    "## Machine Learning Model\n",
    "Before we use that feature matrix to make predictions, we should check how well guessing does on this dataset. We can use a `train_test_split` from scikit-learn to split our training data once and for all."
   ]
  },
  {
   "cell_type": "code",
   "execution_count": 11,
   "metadata": {},
   "outputs": [],
   "source": [
    "from sklearn.ensemble import RandomForestRegressor\n",
    "from sklearn.model_selection import train_test_split\n",
    "from sklearn.metrics import mean_absolute_error"
   ]
  },
  {
   "cell_type": "code",
   "execution_count": 12,
   "metadata": {},
   "outputs": [],
   "source": [
    "X = learning_dataset_Vertical.drop(columns='RUL').values\n",
    "y = learning_dataset_Vertical['RUL']\n",
    "X_train, X_test, y_train, y_test = train_test_split(X, y, random_state=17,train_size=0.8)"
   ]
  },
  {
   "cell_type": "code",
   "execution_count": 13,
   "metadata": {},
   "outputs": [],
   "source": [
    "from sklearn.preprocessing import StandardScaler\n",
    "scaler = StandardScaler()\n",
    "X_train = scaler.fit_transform(X_train)"
   ]
  },
  {
   "cell_type": "markdown",
   "metadata": {},
   "source": [
    "## Applying Kernal PCA"
   ]
  },
  {
   "cell_type": "code",
   "execution_count": 14,
   "metadata": {},
   "outputs": [],
   "source": [
    "from sklearn.decomposition import PCA\n",
    "\n",
    "transformer = PCA(n_components=5)\n",
    "X_train =transformer.fit_transform(X_train)"
   ]
  },
  {
   "cell_type": "code",
   "execution_count": 15,
   "metadata": {},
   "outputs": [
    {
     "data": {
      "text/plain": [
       "array([0.35419863, 0.54461316, 0.64199131, 0.7305649 , 0.80182377])"
      ]
     },
     "execution_count": 15,
     "metadata": {},
     "output_type": "execute_result"
    }
   ],
   "source": [
    "np.cumsum(transformer.explained_variance_ratio_)"
   ]
  },
  {
   "cell_type": "markdown",
   "metadata": {},
   "source": [
    "# Step 3: Using the Model\n",
    "Now, we can use our created features to fit a `RandomForestRegressor` to our data and see if we can improve on the previous scores."
   ]
  },
  {
   "cell_type": "code",
   "execution_count": 16,
   "metadata": {},
   "outputs": [
    {
     "data": {
      "text/plain": [
       "(6022, 5)"
      ]
     },
     "execution_count": 16,
     "metadata": {},
     "output_type": "execute_result"
    }
   ],
   "source": [
    "X_train.shape"
   ]
  },
  {
   "cell_type": "code",
   "execution_count": 17,
   "metadata": {},
   "outputs": [
    {
     "name": "stdout",
     "output_type": "stream",
     "text": [
      "Mean Abs Error: 2462.73\n"
     ]
    }
   ],
   "source": [
    "reg = RandomForestRegressor(n_estimators=18,random_state=13)\n",
    "reg.fit(X_train, y_train)\n",
    "\n",
    "preds = reg.predict(transformer.transform(scaler.transform(X_test)))\n",
    "scores = mean_absolute_error(preds, y_test)\n",
    "print('Mean Abs Error: {:.2f}'.format(scores))\n",
    "\n",
    "# high_imp_feats = utils.feature_importances(X, reg, feats=10)"
   ]
  },
  {
   "cell_type": "code",
   "execution_count": 18,
   "metadata": {},
   "outputs": [
    {
     "data": {
      "text/plain": [
       "RandomForestRegressor(bootstrap=True, ccp_alpha=0.0, criterion='mse',\n",
       "                      max_depth=None, max_features='auto', max_leaf_nodes=None,\n",
       "                      max_samples=None, min_impurity_decrease=0.0,\n",
       "                      min_impurity_split=None, min_samples_leaf=1,\n",
       "                      min_samples_split=2, min_weight_fraction_leaf=0.0,\n",
       "                      n_estimators=18, n_jobs=None, oob_score=False,\n",
       "                      random_state=13, verbose=0, warm_start=False)"
      ]
     },
     "execution_count": 18,
     "metadata": {},
     "output_type": "execute_result"
    }
   ],
   "source": [
    "reg"
   ]
  },
  {
   "cell_type": "markdown",
   "metadata": {},
   "source": [
    "## Test set"
   ]
  },
  {
   "cell_type": "code",
   "execution_count": 19,
   "metadata": {},
   "outputs": [],
   "source": [
    "#getting the data from files\n",
    "Test_dataset_Vertical = get_data('TEST','Vertical',[3,4,5,6,7])"
   ]
  },
  {
   "cell_type": "code",
   "execution_count": 20,
   "metadata": {},
   "outputs": [
    {
     "data": {
      "text/html": [
       "<div>\n",
       "<style scoped>\n",
       "    .dataframe tbody tr th:only-of-type {\n",
       "        vertical-align: middle;\n",
       "    }\n",
       "\n",
       "    .dataframe tbody tr th {\n",
       "        vertical-align: top;\n",
       "    }\n",
       "\n",
       "    .dataframe thead th {\n",
       "        text-align: right;\n",
       "    }\n",
       "</style>\n",
       "<table border=\"1\" class=\"dataframe\">\n",
       "  <thead>\n",
       "    <tr style=\"text-align: right;\">\n",
       "      <th></th>\n",
       "      <th>Mean</th>\n",
       "      <th>StandardDev</th>\n",
       "      <th>RMS</th>\n",
       "      <th>AbsMean</th>\n",
       "      <th>Skewness</th>\n",
       "      <th>Kurtosis</th>\n",
       "      <th>Variance</th>\n",
       "      <th>MaxValue</th>\n",
       "      <th>MinValue</th>\n",
       "      <th>Peak2Peak</th>\n",
       "      <th>...</th>\n",
       "      <th>PeakIndex</th>\n",
       "      <th>PulseIndex</th>\n",
       "      <th>MarginIndex</th>\n",
       "      <th>SkewnessIndex</th>\n",
       "      <th>KurtosisIndex</th>\n",
       "      <th>CustomFeature1</th>\n",
       "      <th>CustomFeature2</th>\n",
       "      <th>SquareRootAmplitude</th>\n",
       "      <th>condition_2</th>\n",
       "      <th>condition_3</th>\n",
       "    </tr>\n",
       "    <tr>\n",
       "      <th>BearingNumber</th>\n",
       "      <th></th>\n",
       "      <th></th>\n",
       "      <th></th>\n",
       "      <th></th>\n",
       "      <th></th>\n",
       "      <th></th>\n",
       "      <th></th>\n",
       "      <th></th>\n",
       "      <th></th>\n",
       "      <th></th>\n",
       "      <th></th>\n",
       "      <th></th>\n",
       "      <th></th>\n",
       "      <th></th>\n",
       "      <th></th>\n",
       "      <th></th>\n",
       "      <th></th>\n",
       "      <th></th>\n",
       "      <th></th>\n",
       "      <th></th>\n",
       "      <th></th>\n",
       "    </tr>\n",
       "  </thead>\n",
       "  <tbody>\n",
       "    <tr>\n",
       "      <th>3</th>\n",
       "      <td>0.014267</td>\n",
       "      <td>0.081451</td>\n",
       "      <td>0.082660</td>\n",
       "      <td>0.064986</td>\n",
       "      <td>0.276928</td>\n",
       "      <td>3.205986</td>\n",
       "      <td>0.006634</td>\n",
       "      <td>0.324098</td>\n",
       "      <td>0.000018</td>\n",
       "      <td>0.324080</td>\n",
       "      <td>...</td>\n",
       "      <td>3.979052</td>\n",
       "      <td>4.987233</td>\n",
       "      <td>3.920865</td>\n",
       "      <td>512.481179</td>\n",
       "      <td>72840.938816</td>\n",
       "      <td>19.286948</td>\n",
       "      <td>0.083887</td>\n",
       "      <td>0.054658</td>\n",
       "      <td>0</td>\n",
       "      <td>0</td>\n",
       "    </tr>\n",
       "    <tr>\n",
       "      <th>3</th>\n",
       "      <td>0.005227</td>\n",
       "      <td>0.075278</td>\n",
       "      <td>0.075430</td>\n",
       "      <td>0.059600</td>\n",
       "      <td>0.114823</td>\n",
       "      <td>3.380948</td>\n",
       "      <td>0.005667</td>\n",
       "      <td>0.274640</td>\n",
       "      <td>0.000004</td>\n",
       "      <td>0.274636</td>\n",
       "      <td>...</td>\n",
       "      <td>3.648332</td>\n",
       "      <td>4.608076</td>\n",
       "      <td>3.640984</td>\n",
       "      <td>269.167835</td>\n",
       "      <td>105284.064458</td>\n",
       "      <td>21.192478</td>\n",
       "      <td>0.075582</td>\n",
       "      <td>0.050415</td>\n",
       "      <td>0</td>\n",
       "      <td>0</td>\n",
       "    </tr>\n",
       "    <tr>\n",
       "      <th>3</th>\n",
       "      <td>-0.015779</td>\n",
       "      <td>0.076756</td>\n",
       "      <td>0.078331</td>\n",
       "      <td>0.061699</td>\n",
       "      <td>0.144595</td>\n",
       "      <td>3.267382</td>\n",
       "      <td>0.005891</td>\n",
       "      <td>0.287763</td>\n",
       "      <td>0.000077</td>\n",
       "      <td>0.287686</td>\n",
       "      <td>...</td>\n",
       "      <td>3.749067</td>\n",
       "      <td>4.663964</td>\n",
       "      <td>3.673651</td>\n",
       "      <td>319.756261</td>\n",
       "      <td>94135.966535</td>\n",
       "      <td>20.162892</td>\n",
       "      <td>0.079940</td>\n",
       "      <td>0.051626</td>\n",
       "      <td>0</td>\n",
       "      <td>0</td>\n",
       "    </tr>\n",
       "    <tr>\n",
       "      <th>3</th>\n",
       "      <td>-0.011277</td>\n",
       "      <td>0.078014</td>\n",
       "      <td>0.078794</td>\n",
       "      <td>0.062700</td>\n",
       "      <td>0.107867</td>\n",
       "      <td>3.045621</td>\n",
       "      <td>0.006086</td>\n",
       "      <td>0.248614</td>\n",
       "      <td>0.000058</td>\n",
       "      <td>0.248556</td>\n",
       "      <td>...</td>\n",
       "      <td>3.186793</td>\n",
       "      <td>3.965136</td>\n",
       "      <td>3.155219</td>\n",
       "      <td>227.181894</td>\n",
       "      <td>82222.486985</td>\n",
       "      <td>19.844359</td>\n",
       "      <td>0.079583</td>\n",
       "      <td>0.053177</td>\n",
       "      <td>0</td>\n",
       "      <td>0</td>\n",
       "    </tr>\n",
       "    <tr>\n",
       "      <th>3</th>\n",
       "      <td>-0.016224</td>\n",
       "      <td>0.074611</td>\n",
       "      <td>0.076326</td>\n",
       "      <td>0.061894</td>\n",
       "      <td>0.180571</td>\n",
       "      <td>2.892517</td>\n",
       "      <td>0.005567</td>\n",
       "      <td>0.235779</td>\n",
       "      <td>0.000084</td>\n",
       "      <td>0.235695</td>\n",
       "      <td>...</td>\n",
       "      <td>3.160106</td>\n",
       "      <td>3.809423</td>\n",
       "      <td>3.089095</td>\n",
       "      <td>434.749839</td>\n",
       "      <td>93338.997404</td>\n",
       "      <td>19.476536</td>\n",
       "      <td>0.078081</td>\n",
       "      <td>0.053105</td>\n",
       "      <td>0</td>\n",
       "      <td>0</td>\n",
       "    </tr>\n",
       "  </tbody>\n",
       "</table>\n",
       "<p>5 rows × 21 columns</p>\n",
       "</div>"
      ],
      "text/plain": [
       "                   Mean  StandardDev       RMS   AbsMean  Skewness  Kurtosis  \\\n",
       "BearingNumber                                                                  \n",
       "3              0.014267     0.081451  0.082660  0.064986  0.276928  3.205986   \n",
       "3              0.005227     0.075278  0.075430  0.059600  0.114823  3.380948   \n",
       "3             -0.015779     0.076756  0.078331  0.061699  0.144595  3.267382   \n",
       "3             -0.011277     0.078014  0.078794  0.062700  0.107867  3.045621   \n",
       "3             -0.016224     0.074611  0.076326  0.061894  0.180571  2.892517   \n",
       "\n",
       "               Variance  MaxValue  MinValue  Peak2Peak  ...  PeakIndex  \\\n",
       "BearingNumber                                           ...              \n",
       "3              0.006634  0.324098  0.000018   0.324080  ...   3.979052   \n",
       "3              0.005667  0.274640  0.000004   0.274636  ...   3.648332   \n",
       "3              0.005891  0.287763  0.000077   0.287686  ...   3.749067   \n",
       "3              0.006086  0.248614  0.000058   0.248556  ...   3.186793   \n",
       "3              0.005567  0.235779  0.000084   0.235695  ...   3.160106   \n",
       "\n",
       "               PulseIndex  MarginIndex  SkewnessIndex  KurtosisIndex  \\\n",
       "BearingNumber                                                          \n",
       "3                4.987233     3.920865     512.481179   72840.938816   \n",
       "3                4.608076     3.640984     269.167835  105284.064458   \n",
       "3                4.663964     3.673651     319.756261   94135.966535   \n",
       "3                3.965136     3.155219     227.181894   82222.486985   \n",
       "3                3.809423     3.089095     434.749839   93338.997404   \n",
       "\n",
       "               CustomFeature1  CustomFeature2  SquareRootAmplitude  \\\n",
       "BearingNumber                                                        \n",
       "3                   19.286948        0.083887             0.054658   \n",
       "3                   21.192478        0.075582             0.050415   \n",
       "3                   20.162892        0.079940             0.051626   \n",
       "3                   19.844359        0.079583             0.053177   \n",
       "3                   19.476536        0.078081             0.053105   \n",
       "\n",
       "               condition_2  condition_3  \n",
       "BearingNumber                            \n",
       "3                        0            0  \n",
       "3                        0            0  \n",
       "3                        0            0  \n",
       "3                        0            0  \n",
       "3                        0            0  \n",
       "\n",
       "[5 rows x 21 columns]"
      ]
     },
     "execution_count": 20,
     "metadata": {},
     "output_type": "execute_result"
    }
   ],
   "source": [
    "Test_dataset_Vertical.head()"
   ]
  },
  {
   "cell_type": "code",
   "execution_count": 21,
   "metadata": {},
   "outputs": [],
   "source": [
    "Test_dataset_Vertical = Test_dataset_Vertical.drop(columns = to_drop)"
   ]
  },
  {
   "cell_type": "code",
   "execution_count": 22,
   "metadata": {},
   "outputs": [
    {
     "data": {
      "text/plain": [
       "BearingNumber\n",
       "3     9303.333333\n",
       "3     8221.111111\n",
       "3     9093.333333\n",
       "3     9899.444444\n",
       "3    10576.111111\n",
       "Name: predicted_RUL, dtype: float64"
      ]
     },
     "execution_count": 22,
     "metadata": {},
     "output_type": "execute_result"
    }
   ],
   "source": [
    "#predict RUL for every record\n",
    "Test_dataset_Vertical['predicted_RUL'] = reg.predict(transformer.transform(scaler.transform(Test_dataset_Vertical)))\n",
    "Test_dataset_Vertical['predicted_RUL'].head()"
   ]
  },
  {
   "cell_type": "code",
   "execution_count": 23,
   "metadata": {},
   "outputs": [],
   "source": [
    "#reset condition\n",
    "Test_dataset_Vertical.loc[(Test_dataset_Vertical.condition_2 == 0)&\n",
    "                           (Test_dataset_Vertical.condition_3 == 0),'condition'] = '1'\n",
    "Test_dataset_Vertical.loc[(Test_dataset_Vertical.condition_2 == 1)&\n",
    "                           (Test_dataset_Vertical.condition_3 == 0),'condition'] = '2'\n",
    "Test_dataset_Vertical.loc[(Test_dataset_Vertical.condition_2 == 0)&\n",
    "                           (Test_dataset_Vertical.condition_3 == 1),'condition'] = '3'"
   ]
  },
  {
   "cell_type": "code",
   "execution_count": 24,
   "metadata": {},
   "outputs": [
    {
     "data": {
      "text/html": [
       "<div>\n",
       "<style scoped>\n",
       "    .dataframe tbody tr th:only-of-type {\n",
       "        vertical-align: middle;\n",
       "    }\n",
       "\n",
       "    .dataframe tbody tr th {\n",
       "        vertical-align: top;\n",
       "    }\n",
       "\n",
       "    .dataframe thead th {\n",
       "        text-align: right;\n",
       "    }\n",
       "</style>\n",
       "<table border=\"1\" class=\"dataframe\">\n",
       "  <thead>\n",
       "    <tr style=\"text-align: right;\">\n",
       "      <th></th>\n",
       "      <th>BearingNumber</th>\n",
       "      <th>condition</th>\n",
       "      <th>predicted_RUL</th>\n",
       "    </tr>\n",
       "  </thead>\n",
       "  <tbody>\n",
       "    <tr>\n",
       "      <th>0</th>\n",
       "      <td>3</td>\n",
       "      <td>1</td>\n",
       "      <td>34.444444</td>\n",
       "    </tr>\n",
       "    <tr>\n",
       "      <th>1</th>\n",
       "      <td>4</td>\n",
       "      <td>1</td>\n",
       "      <td>45.000000</td>\n",
       "    </tr>\n",
       "    <tr>\n",
       "      <th>2</th>\n",
       "      <td>5</td>\n",
       "      <td>1</td>\n",
       "      <td>1525.555556</td>\n",
       "    </tr>\n",
       "    <tr>\n",
       "      <th>3</th>\n",
       "      <td>6</td>\n",
       "      <td>1</td>\n",
       "      <td>1217.777778</td>\n",
       "    </tr>\n",
       "    <tr>\n",
       "      <th>4</th>\n",
       "      <td>7</td>\n",
       "      <td>1</td>\n",
       "      <td>1411.666667</td>\n",
       "    </tr>\n",
       "    <tr>\n",
       "      <th>5</th>\n",
       "      <td>3</td>\n",
       "      <td>2</td>\n",
       "      <td>215.000000</td>\n",
       "    </tr>\n",
       "    <tr>\n",
       "      <th>6</th>\n",
       "      <td>4</td>\n",
       "      <td>2</td>\n",
       "      <td>211.111111</td>\n",
       "    </tr>\n",
       "    <tr>\n",
       "      <th>7</th>\n",
       "      <td>5</td>\n",
       "      <td>2</td>\n",
       "      <td>1242.222222</td>\n",
       "    </tr>\n",
       "    <tr>\n",
       "      <th>8</th>\n",
       "      <td>6</td>\n",
       "      <td>2</td>\n",
       "      <td>2335.000000</td>\n",
       "    </tr>\n",
       "    <tr>\n",
       "      <th>9</th>\n",
       "      <td>7</td>\n",
       "      <td>2</td>\n",
       "      <td>520.000000</td>\n",
       "    </tr>\n",
       "    <tr>\n",
       "      <th>10</th>\n",
       "      <td>3</td>\n",
       "      <td>3</td>\n",
       "      <td>1765.555556</td>\n",
       "    </tr>\n",
       "  </tbody>\n",
       "</table>\n",
       "</div>"
      ],
      "text/plain": [
       "    BearingNumber condition  predicted_RUL\n",
       "0               3         1      34.444444\n",
       "1               4         1      45.000000\n",
       "2               5         1    1525.555556\n",
       "3               6         1    1217.777778\n",
       "4               7         1    1411.666667\n",
       "5               3         2     215.000000\n",
       "6               4         2     211.111111\n",
       "7               5         2    1242.222222\n",
       "8               6         2    2335.000000\n",
       "9               7         2     520.000000\n",
       "10              3         3    1765.555556"
      ]
     },
     "execution_count": 24,
     "metadata": {},
     "output_type": "execute_result"
    }
   ],
   "source": [
    "#get the RUL for each bearing number as minium value\n",
    "Test_dataset_Vertical.reset_index().groupby(['BearingNumber','condition'],as_index = False,sort=False)['predicted_RUL'].min()"
   ]
  },
  {
   "cell_type": "code",
   "execution_count": 25,
   "metadata": {},
   "outputs": [],
   "source": [
    "#get the RUL for each bearing number as last value\n",
    "result = Test_dataset_Vertical.reset_index().groupby(['BearingNumber','condition'],as_index = False,sort=False)['predicted_RUL'].quantile(0)"
   ]
  },
  {
   "cell_type": "code",
   "execution_count": 26,
   "metadata": {},
   "outputs": [],
   "source": [
    "result['RUL'] = [5730,339 ,1610 ,1460,7570 ,7530 ,1390,3090 ,1290, 580,820]\n",
    "\n",
    "result['%ERi'] = 100 * (result['RUL']  - result['predicted_RUL'] ) /result['RUL']"
   ]
  },
  {
   "cell_type": "code",
   "execution_count": 27,
   "metadata": {},
   "outputs": [],
   "source": [
    "def cal_score(value):\n",
    "    if value < 0:\n",
    "        Ai = np.exp(-np.log(0.5)*(value/5))\n",
    "    else:\n",
    "        Ai = np.exp(np.log(0.5)*(value/20))\n",
    "    return Ai"
   ]
  },
  {
   "cell_type": "markdown",
   "metadata": {},
   "source": [
    "## Score"
   ]
  },
  {
   "cell_type": "code",
   "execution_count": 28,
   "metadata": {},
   "outputs": [
    {
     "data": {
      "text/plain": [
       "0.2227"
      ]
     },
     "execution_count": 28,
     "metadata": {},
     "output_type": "execute_result"
    }
   ],
   "source": [
    "round(result['%ERi'].map(cal_score).mean(),4)"
   ]
  },
  {
   "cell_type": "code",
   "execution_count": 29,
   "metadata": {},
   "outputs": [
    {
     "name": "stdout",
     "output_type": "stream",
     "text": [
      "    BearingNumber condition  predicted_RUL   RUL        %ERi\n",
      "0               3         1      34.444444  5730   99.398875\n",
      "1               4         1      45.000000   339   86.725664\n",
      "2               5         1    1525.555556  1610    5.244997\n",
      "3               6         1    1217.777778  1460   16.590563\n",
      "4               7         1    1411.666667  7570   81.351827\n",
      "5               3         2     215.000000  7530   97.144754\n",
      "6               4         2     211.111111  1390   84.812150\n",
      "7               5         2    1242.222222  3090   59.798634\n",
      "8               6         2    2335.000000  1290  -81.007752\n",
      "9               7         2     520.000000   580   10.344828\n",
      "10              3         3    1765.555556   820 -115.311653\n"
     ]
    }
   ],
   "source": [
    "print(result)"
   ]
  },
  {
   "cell_type": "code",
   "execution_count": null,
   "metadata": {},
   "outputs": [],
   "source": [
    "x = np.array([\"1_3\", \"1_4\", \"1_5\", \"1_6\", \"1_7\"\n",
    "              , \"2_3\", \"2_4\", \"2_5\", \"2_6\", \"2_7\"\n",
    "              , \"3_3\"])\n",
    "y = [ 34, 45, 1525, 1217, 1411, 215, 211, 1242, 2335, 520, 1765]\n",
    "\n",
    "\n",
    "  \n",
    "# plt.scatter(x, y, Label=\"Predicted RUL\")\n",
    "# plt.scatter(x, result['RUL'], Label=\"Actual RUL\")\n",
    "\n",
    "\n",
    "fig, ax = plt.subplots()\n",
    "ax.scatter(x, y, label=\"Predicted RUL\")\n",
    "ax.scatter(x, result['RUL'], label=\"Actual RUL\")\n",
    "ax.legend()\n",
    "\n",
    "plt.xlabel(\"Bearings\")\n",
    "plt.ylabel(\"RUL\")\n",
    "plt.title(\"Remaining Useful Life of Bearings\")\n",
    "\n",
    "plt.show()"
   ]
  }
 ],
 "metadata": {
  "interpreter": {
   "hash": "91383ca01c745ff4f6ec61074eff8198c75652caf775a5c5ee2312577bd67511"
  },
  "jupytext": {
   "encoding": "# -*- coding: utf-8 -*-"
  },
  "kernelspec": {
   "display_name": "Python 3 (ipykernel)",
   "language": "python",
   "name": "python3"
  },
  "language_info": {
   "codemirror_mode": {
    "name": "ipython",
    "version": 3
   },
   "file_extension": ".py",
   "mimetype": "text/x-python",
   "name": "python",
   "nbconvert_exporter": "python",
   "pygments_lexer": "ipython3",
   "version": "3.8.1"
  }
 },
 "nbformat": 4,
 "nbformat_minor": 2
}
